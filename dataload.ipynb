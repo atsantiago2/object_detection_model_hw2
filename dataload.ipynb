{
 "cells": [
  {
   "cell_type": "code",
   "execution_count": 55,
   "metadata": {},
   "outputs": [
    {
     "name": "stdout",
     "output_type": "stream",
     "text": [
      "Total Unique 3\n",
      "Here\n"
     ]
    },
    {
     "data": {
      "text/plain": [
       "51"
      ]
     },
     "execution_count": 55,
     "metadata": {},
     "output_type": "execute_result"
    }
   ],
   "source": [
    "\n",
    "import json, os\n",
    "def json_get_segment_train_details(train):\n",
    "\tif train is True:\n",
    "\t\ta_fp = os.path.join('data','drinks', 'segmentation_train.json')\n",
    "\telse:\n",
    "\t\ta_fp = os.path.join('data','drinks', 'segmentation_test.json')\n",
    "\n",
    "\twith open(a_fp, 'r') as f:\n",
    "\t\td1 = json.load(f)\n",
    "\t\td1 = d1[\"_via_img_metadata\"]\n",
    "\n",
    "\treturn d1\n",
    "\n",
    "def get_dataset_dict(train):\n",
    "\td1 = json_get_segment_train_details(train=train)\n",
    "\n",
    "\ttarget = {}\n",
    "\tunique_classes = []\n",
    "\tfor key, val in d1.items():\n",
    "\t\t# print(key,'val:', value)\n",
    "\t\tfilename = os.path.join('data','drinks', val['filename'])\n",
    "\n",
    "\t\t# print(val['regions'][0])\n",
    "\n",
    "\t\tmask_list = []\n",
    "\t\tfor mask in val['regions']:\n",
    "\t\t\tmask_d = {}\n",
    "\t\t\t# print(mask['shape_attributes'])\n",
    "\t\t\t# print(mask['region_attributes']['Name'])\n",
    "\t\t\tname = mask['region_attributes']['Name']\n",
    "\t\t\tmask_d['Name'] = name\n",
    "\t\t\tif name not in unique_classes:\n",
    "\t\t\t\tunique_classes.append(name)\n",
    "\n",
    "\t\t\tmask_d['x'] = mask['shape_attributes']['all_points_x']\n",
    "\t\t\tmask_d['y'] = mask['shape_attributes']['all_points_y']\n",
    "\t\t\tmask_list.append(mask_d)\n",
    "\n",
    "\t\td_temp = {}\n",
    "\t\td_temp['filename'] = filename\n",
    "\t\td_temp['masks'] = mask_list\n",
    "\t\t# d_temp[items] = \n",
    "\t\t# target[filename] \n",
    "\t\ttarget[filename] = d_temp\n",
    "\n",
    "\tprint('Total Unique', len(unique_classes))\n",
    "\t# target = d1\n",
    "\treturn target, unique_classes\n",
    "\n",
    "d1, c = get_dataset_dict(False)\n",
    "print('Here')\n",
    "len(d1)"
   ]
  },
  {
   "cell_type": "code",
   "execution_count": 6,
   "metadata": {},
   "outputs": [
    {
     "name": "stdout",
     "output_type": "stream",
     "text": [
      "0010050.jpg98518\n",
      "0010000.jpg138095\n",
      "0010001.jpg143132\n",
      "0010002.jpg148363\n",
      "0010003.jpg168419\n",
      "0010004.jpg168432\n",
      "0010005.jpg160536\n",
      "0010006.jpg148426\n",
      "0010007.jpg147771\n",
      "0010008.jpg140257\n",
      "0010009.jpg125375\n",
      "0010010.jpg125315\n",
      "0010011.jpg140191\n",
      "0010012.jpg81188\n",
      "0010013.jpg91701\n",
      "0010014.jpg95916\n",
      "0010015.jpg87298\n",
      "0010016.jpg122173\n",
      "0010017.jpg134240\n",
      "0010018.jpg139024\n",
      "0010019.jpg130482\n",
      "0010020.jpg130218\n",
      "0010021.jpg108208\n",
      "0010022.jpg89895\n",
      "0010023.jpg101363\n",
      "0010024.jpg101686\n",
      "0010025.jpg105206\n",
      "0010026.jpg131454\n",
      "0010027.jpg124565\n",
      "0010028.jpg111947\n",
      "0010029.jpg123221\n",
      "0010030.jpg127939\n",
      "0010031.jpg108653\n",
      "0010032.jpg175828\n",
      "0010033.jpg180319\n",
      "0010034.jpg120073\n",
      "0010035.jpg129880\n",
      "0010036.jpg175053\n",
      "0010037.jpg154050\n",
      "0010038.jpg130851\n",
      "0010039.jpg149120\n",
      "0010040.jpg137575\n",
      "0010041.jpg150622\n",
      "0010042.jpg145323\n",
      "0010043.jpg138427\n",
      "0010044.jpg109996\n",
      "0010045.jpg132794\n",
      "0010046.jpg82731\n",
      "0010047.jpg96481\n",
      "0010048.jpg93957\n",
      "0010049.jpg97366\n"
     ]
    }
   ],
   "source": []
  },
  {
   "cell_type": "code",
   "execution_count": null,
   "metadata": {},
   "outputs": [],
   "source": [
    "import matplotlib.pyplot as plt\n",
    "import matplotlib.image as mpimg\n",
    "import matplotlib.patches as patches\n",
    "\n",
    "img = mpimg.imread('data/drinks/' + name)\n",
    "# imgplot = plt.imshow(img)\n",
    "fig, ax = plt.subplots()\n",
    "ax.imshow(img)\n",
    "# plt.show()\n",
    "\n",
    "rect = patches.Rectangle((specs['x'], specs['y']), specs['width'], specs['height']\n",
    "\t, linewidth=2, edgecolor='r', facecolor='none')\n",
    "ax.add_patch(rect)\n",
    "plt.show()"
   ]
  },
  {
   "cell_type": "code",
   "execution_count": 11,
   "metadata": {},
   "outputs": [
    {
     "ename": "NameError",
     "evalue": "name 'keys' is not defined",
     "output_type": "error",
     "traceback": [
      "\u001b[1;31m---------------------------------------------------------------------------\u001b[0m",
      "\u001b[1;31mNameError\u001b[0m                                 Traceback (most recent call last)",
      "\u001b[1;32mf:\\git_repos\\ee298dl\\object_detection_model_hw2\\dataload.ipynb Cell 4'\u001b[0m in \u001b[0;36m<cell line: 1>\u001b[1;34m()\u001b[0m\n\u001b[1;32m----> <a href='vscode-notebook-cell:/f%3A/git_repos/ee298dl/object_detection_model_hw2/dataload.ipynb#ch0000002?line=0'>1</a>\u001b[0m \u001b[39mfor\u001b[39;00m k \u001b[39min\u001b[39;00m keys:\n\u001b[0;32m      <a href='vscode-notebook-cell:/f%3A/git_repos/ee298dl/object_detection_model_hw2/dataload.ipynb#ch0000002?line=1'>2</a>\u001b[0m \t\u001b[39mprint\u001b[39m(\u001b[39mtype\u001b[39m(k))\n",
      "\u001b[1;31mNameError\u001b[0m: name 'keys' is not defined"
     ]
    }
   ],
   "source": [
    "for k in keys:\n",
    "\tprint(type(k))"
   ]
  }
 ],
 "metadata": {
  "interpreter": {
   "hash": "503b3d6cd8e3b4ec3c16f795888027daa3867f41b5c0f2d5efab908712e19a59"
  },
  "kernelspec": {
   "display_name": "Python 3.9.12 ('dl2')",
   "language": "python",
   "name": "python3"
  },
  "language_info": {
   "codemirror_mode": {
    "name": "ipython",
    "version": 3
   },
   "file_extension": ".py",
   "mimetype": "text/x-python",
   "name": "python",
   "nbconvert_exporter": "python",
   "pygments_lexer": "ipython3",
   "version": "3.9.12"
  },
  "orig_nbformat": 4
 },
 "nbformat": 4,
 "nbformat_minor": 2
}
